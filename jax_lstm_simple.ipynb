{
  "nbformat": 4,
  "nbformat_minor": 0,
  "metadata": {
    "colab": {
      "name": "jax lstm simple.ipynb",
      "provenance": [],
      "collapsed_sections": [],
      "authorship_tag": "ABX9TyNCrFQ2X9p4OATF/6HAMKeP",
      "include_colab_link": true
    },
    "kernelspec": {
      "display_name": "Python 3",
      "name": "python3"
    },
    "language_info": {
      "name": "python"
    }
  },
  "cells": [
    {
      "cell_type": "markdown",
      "metadata": {
        "id": "view-in-github",
        "colab_type": "text"
      },
      "source": [
        "<a href=\"https://colab.research.google.com/github/toshif/colab1/blob/main/jax_lstm_simple.ipynb\" target=\"_parent\"><img src=\"https://colab.research.google.com/assets/colab-badge.svg\" alt=\"Open In Colab\"/></a>"
      ]
    },
    {
      "cell_type": "markdown",
      "metadata": {
        "id": "HTghyOxNosCb"
      },
      "source": [
        "https://github.com/deepmind/dm-haiku/blob/main/examples/haiku_lstms.ipynb"
      ]
    },
    {
      "cell_type": "code",
      "metadata": {
        "colab": {
          "base_uri": "https://localhost:8080/"
        },
        "id": "56Dp5Rn8mIy7",
        "outputId": "0e0282f3-f28a-4f10-c84a-968d4468cf2a"
      },
      "source": [
        "!pip install git+https://github.com/deepmind/dm-haiku"
      ],
      "execution_count": 2,
      "outputs": [
        {
          "output_type": "stream",
          "name": "stdout",
          "text": [
            "Collecting git+https://github.com/deepmind/dm-haiku\n",
            "  Cloning https://github.com/deepmind/dm-haiku to /tmp/pip-req-build-qoj6o9hw\n",
            "  Running command git clone -q https://github.com/deepmind/dm-haiku /tmp/pip-req-build-qoj6o9hw\n",
            "Requirement already satisfied: absl-py>=0.7.1 in /usr/local/lib/python3.7/dist-packages (from dm-haiku==0.0.6.dev0) (0.12.0)\n",
            "Collecting jmp>=0.0.2\n",
            "  Downloading jmp-0.0.2-py3-none-any.whl (16 kB)\n",
            "Requirement already satisfied: numpy>=1.18.0 in /usr/local/lib/python3.7/dist-packages (from dm-haiku==0.0.6.dev0) (1.19.5)\n",
            "Requirement already satisfied: tabulate>=0.8.9 in /usr/local/lib/python3.7/dist-packages (from dm-haiku==0.0.6.dev0) (0.8.9)\n",
            "Requirement already satisfied: typing_extensions in /usr/local/lib/python3.7/dist-packages (from dm-haiku==0.0.6.dev0) (3.7.4.3)\n",
            "Requirement already satisfied: six in /usr/local/lib/python3.7/dist-packages (from absl-py>=0.7.1->dm-haiku==0.0.6.dev0) (1.15.0)\n",
            "Building wheels for collected packages: dm-haiku\n",
            "  Building wheel for dm-haiku (setup.py) ... \u001b[?25l\u001b[?25hdone\n",
            "  Created wheel for dm-haiku: filename=dm_haiku-0.0.6.dev0-py3-none-any.whl size=537308 sha256=ae31440676d1713128cfca8e400c91fa8599a0945dd43ab708c4d659840b98bc\n",
            "  Stored in directory: /tmp/pip-ephem-wheel-cache-4i9p08qp/wheels/06/28/69/ebaac5b2435641427299f29d88d005fb4e2627f4a108f0bdbc\n",
            "Successfully built dm-haiku\n",
            "Installing collected packages: jmp, dm-haiku\n",
            "Successfully installed dm-haiku-0.0.6.dev0 jmp-0.0.2\n"
          ]
        }
      ]
    },
    {
      "cell_type": "code",
      "metadata": {
        "colab": {
          "base_uri": "https://localhost:8080/"
        },
        "id": "bGMWwzrEmnG_",
        "outputId": "59489d87-5f95-41ce-a008-d71442bd81ee"
      },
      "source": [
        "!pip install optax"
      ],
      "execution_count": 3,
      "outputs": [
        {
          "output_type": "stream",
          "name": "stdout",
          "text": [
            "Collecting optax\n",
            "  Downloading optax-0.0.9-py3-none-any.whl (118 kB)\n",
            "\u001b[?25l\r\u001b[K     |██▊                             | 10 kB 21.5 MB/s eta 0:00:01\r\u001b[K     |█████▌                          | 20 kB 25.2 MB/s eta 0:00:01\r\u001b[K     |████████▎                       | 30 kB 14.2 MB/s eta 0:00:01\r\u001b[K     |███████████                     | 40 kB 10.7 MB/s eta 0:00:01\r\u001b[K     |█████████████▊                  | 51 kB 7.7 MB/s eta 0:00:01\r\u001b[K     |████████████████▌               | 61 kB 7.0 MB/s eta 0:00:01\r\u001b[K     |███████████████████▎            | 71 kB 6.7 MB/s eta 0:00:01\r\u001b[K     |██████████████████████          | 81 kB 7.4 MB/s eta 0:00:01\r\u001b[K     |████████████████████████▉       | 92 kB 6.8 MB/s eta 0:00:01\r\u001b[K     |███████████████████████████▌    | 102 kB 7.2 MB/s eta 0:00:01\r\u001b[K     |██████████████████████████████▎ | 112 kB 7.2 MB/s eta 0:00:01\r\u001b[K     |████████████████████████████████| 118 kB 7.2 MB/s \n",
            "\u001b[?25hRequirement already satisfied: jax>=0.1.55 in /usr/local/lib/python3.7/dist-packages (from optax) (0.2.21)\n",
            "Requirement already satisfied: jaxlib>=0.1.37 in /usr/local/lib/python3.7/dist-packages (from optax) (0.1.71+cuda111)\n",
            "Requirement already satisfied: numpy>=1.18.0 in /usr/local/lib/python3.7/dist-packages (from optax) (1.19.5)\n",
            "Collecting chex>=0.0.4\n",
            "  Downloading chex-0.0.8-py3-none-any.whl (57 kB)\n",
            "\u001b[K     |████████████████████████████████| 57 kB 4.7 MB/s \n",
            "\u001b[?25hRequirement already satisfied: absl-py>=0.7.1 in /usr/local/lib/python3.7/dist-packages (from optax) (0.12.0)\n",
            "Requirement already satisfied: six in /usr/local/lib/python3.7/dist-packages (from absl-py>=0.7.1->optax) (1.15.0)\n",
            "Requirement already satisfied: dm-tree>=0.1.5 in /usr/local/lib/python3.7/dist-packages (from chex>=0.0.4->optax) (0.1.6)\n",
            "Requirement already satisfied: toolz>=0.9.0 in /usr/local/lib/python3.7/dist-packages (from chex>=0.0.4->optax) (0.11.1)\n",
            "Requirement already satisfied: opt-einsum in /usr/local/lib/python3.7/dist-packages (from jax>=0.1.55->optax) (3.3.0)\n",
            "Requirement already satisfied: scipy>=1.2.1 in /usr/local/lib/python3.7/dist-packages (from jax>=0.1.55->optax) (1.4.1)\n",
            "Requirement already satisfied: flatbuffers<3.0,>=1.12 in /usr/local/lib/python3.7/dist-packages (from jaxlib>=0.1.37->optax) (1.12)\n",
            "Installing collected packages: chex, optax\n",
            "Successfully installed chex-0.0.8 optax-0.0.9\n"
          ]
        }
      ]
    },
    {
      "cell_type": "code",
      "metadata": {
        "id": "yhavHsDtmYXV"
      },
      "source": [
        "import functools\n",
        "import math\n",
        "from typing import Tuple, TypeVar\n",
        "import warnings\n",
        "\n",
        "import haiku as hk\n",
        "import jax\n",
        "import jax.numpy as jnp\n",
        "import optax\n",
        "import numpy as np\n",
        "import pandas as pd\n",
        "import plotnine as gg\n",
        "\n",
        "T = TypeVar('T')\n",
        "Pair = Tuple[T, T]\n",
        "\n",
        "gg.theme_set(gg.theme_bw())\n",
        "warnings.filterwarnings('ignore')"
      ],
      "execution_count": 4,
      "outputs": []
    },
    {
      "cell_type": "markdown",
      "metadata": {
        "id": "Qhy7LlVLnJF5"
      },
      "source": [
        "In this notebook, we generate many sine waves (of the same period), and try to predict the next value in the wave based on its previous values.\n",
        "\n",
        "For simplicity, we generate static-sized datasets and wrap them with an iterator-based API."
      ]
    },
    {
      "cell_type": "code",
      "metadata": {
        "id": "Ug1fY3JcmerE",
        "colab": {
          "base_uri": "https://localhost:8080/"
        },
        "outputId": "a87f6357-e7fe-4c74-cae0-0f733af0daa1"
      },
      "source": [
        "def sine_seq(\n",
        "    train_num: int,\n",
        "    val_num: int\n",
        ") -> Pair[np.ndarray]:\n",
        "  \"\"\"Returns x, y in [T, B] tensor.\"\"\"\n",
        "  x = np.random.rand(4, train_num + val_num)\n",
        "  y = x[:2, :] * 10\n",
        "  return x, y\n",
        "\n",
        "sine_seq(7, 3)"
      ],
      "execution_count": 5,
      "outputs": [
        {
          "output_type": "execute_result",
          "data": {
            "text/plain": [
              "(array([[0.33208067, 0.2420946 , 0.87789679, 0.16049287, 0.21390298,\n",
              "         0.73476239, 0.02490902, 0.88251454, 0.49835593, 0.17670631],\n",
              "        [0.82683506, 0.0079615 , 0.67711705, 0.59363493, 0.61550584,\n",
              "         0.19324884, 0.68572683, 0.90272778, 0.46785893, 0.25674267],\n",
              "        [0.06415772, 0.18802382, 0.57710678, 0.42190853, 0.94902215,\n",
              "         0.00537717, 0.22980703, 0.18566559, 0.02489038, 0.57510577],\n",
              "        [0.05563185, 0.47874618, 0.68551807, 0.01681094, 0.20081915,\n",
              "         0.10553552, 0.81475692, 0.72090334, 0.47239723, 0.43437131]]),\n",
              " array([[3.32080667, 2.42094599, 8.7789679 , 1.6049287 , 2.13902978,\n",
              "         7.34762393, 0.24909021, 8.8251454 , 4.98355933, 1.76706314],\n",
              "        [8.26835059, 0.07961502, 6.77117047, 5.93634929, 6.15505838,\n",
              "         1.93248842, 6.85726832, 9.02727776, 4.67858927, 2.56742672]]))"
            ]
          },
          "metadata": {},
          "execution_count": 5
        }
      ]
    },
    {
      "cell_type": "code",
      "metadata": {
        "id": "lNmoq91tFuOz",
        "colab": {
          "base_uri": "https://localhost:8080/"
        },
        "outputId": "ebc62eea-b256-403b-9f09-ef14f7fad8ed"
      },
      "source": [
        "def generate_data(\n",
        "    train_size: int,\n",
        "    valid_size: int,\n",
        ") -> Pair[Pair[np.ndarray]]:\n",
        "  all_x, all_y = sine_seq(train_size, valid_size)\n",
        "\n",
        "  all_x = np.expand_dims(all_x, -1)\n",
        "  all_y = np.expand_dims(all_y, -1)\n",
        "  train_x = all_x[:, :train_size]\n",
        "  train_y = all_y[:, :train_size]\n",
        "\n",
        "  valid_x = all_x[:, train_size:]\n",
        "  valid_y = all_y[:, train_size:]\n",
        "\n",
        "  return (train_x, train_y), (valid_x, valid_y)\n",
        "\n",
        "\n",
        "class Dataset:\n",
        "  \"\"\"An iterator over a numpy array, revealing batch_size elements at a time.\"\"\"\n",
        "\n",
        "  def __init__(self, xy: Pair[np.ndarray], batch_size: int):\n",
        "    self._x, self._y = xy\n",
        "    self._batch_size = batch_size\n",
        "    self._length = self._x.shape[1]\n",
        "    self._idx = 0\n",
        "    if self._length % batch_size != 0:\n",
        "      msg = 'dataset size {} must be divisible by batch_size {}.'\n",
        "      raise ValueError(msg.format(self._length, batch_size))\n",
        "\n",
        "  def __next__(self) -> Pair[np.ndarray]:\n",
        "    start = self._idx\n",
        "    end = start + self._batch_size\n",
        "    x, y = self._x[:, start:end], self._y[:, start:end]\n",
        "    if end >= self._length:\n",
        "      end = end % self._length\n",
        "      assert end == 0  # Guaranteed by ctor assertion.\n",
        "    self._idx = end\n",
        "\n",
        "    # tmp for MLP\n",
        "    x = np.transpose(x, axes=(1, 0, 2))\n",
        "    y = np.transpose(y, axes=(1, 0, 2))\n",
        "    y = y.reshape(y.shape[0], -1)\n",
        "\n",
        "    return x, y\n",
        "\n",
        "\n",
        "tr1, val1 = generate_data(20, 8)\n",
        "print(f'train shape x={tr1[0].shape}, y={tr1[1].shape}')\n",
        "print(f'val1 shape x={val1[0].shape}, y={val1[1].shape}')\n",
        "\n",
        "train_ds1 = Dataset(tr1, 4)\n",
        "train_ds1_sample = next(train_ds1)\n",
        "print(f'train_ds1_sample x={train_ds1_sample[0].shape}, y={train_ds1_sample[1].shape}')\n",
        "del tr1, val1, train_ds1, train_ds1_sample"
      ],
      "execution_count": 28,
      "outputs": [
        {
          "output_type": "stream",
          "name": "stdout",
          "text": [
            "train shape x=(4, 20, 1), y=(2, 20, 1)\n",
            "val1 shape x=(4, 8, 1), y=(2, 8, 1)\n",
            "train_ds1_sample x=(4, 4, 1), y=(4, 2)\n"
          ]
        }
      ]
    },
    {
      "cell_type": "code",
      "metadata": {
        "colab": {
          "base_uri": "https://localhost:8080/",
          "height": 447
        },
        "id": "HgetZQm5mlc0",
        "outputId": "21422a3e-f251-4a21-b505-a9d47ca03d10"
      },
      "source": [
        "TRAIN_SIZE = 2 ** 14\n",
        "VALID_SIZE = 128\n",
        "BATCH_SIZE = 8\n",
        "SEQ_LEN = 64\n",
        "\n",
        "train, valid = generate_data(TRAIN_SIZE, VALID_SIZE)\n",
        "\n",
        "# Plot an observation/target pair.\n",
        "df = pd.DataFrame({'train0': np.append(train[0][:, 0, 0], train[1][:, 0, 0]), \n",
        "                   'val0': np.append(valid[0][:, 0, 0], valid[1][:, 0, 0])}).reset_index()\n",
        "df = pd.melt(df, id_vars=['index'], value_vars=['train0', 'val0'])\n",
        "plot = gg.ggplot(df) + gg.aes(x='index', y='value', color='variable') + gg.geom_line()\n",
        "plot.draw()\n",
        "\n",
        "train_ds = Dataset(train, BATCH_SIZE)\n",
        "valid_ds = Dataset(valid, BATCH_SIZE)\n",
        "del train, valid  # Don't leak temporaries."
      ],
      "execution_count": 29,
      "outputs": [
        {
          "output_type": "display_data",
          "data": {
            "image/png": "[encoded data removed]",
            "text/plain": [
              "<Figure size 640x480 with 1 Axes>"
            ]
          },
          "metadata": {}
        }
      ]
    },
    {
      "cell_type": "markdown",
      "metadata": {
        "id": "9FvUWedfnH_o"
      },
      "source": [
        "##Training an LSTM\n",
        "\n",
        "To train the LSTM, we define a Haiku function which unrolls the LSTM over the input sequence, generating predictions for all output values. The LSTM always starts with its initial state at the start of the sequence.\n",
        "\n",
        "The Haiku function is then transformed into a pure function through hk.transform, and is trained with Adam on an L2 prediction loss."
      ]
    },
    {
      "cell_type": "code",
      "metadata": {
        "id": "6J1eiJJnnVLd"
      },
      "source": [
        "def unroll_net(seqs: jnp.ndarray):\n",
        "  \"\"\"Unrolls an LSTM over seqs, mapping each output to a scalar.\"\"\"\n",
        "  # seqs is [T, B, F].\n",
        "  # T is the number of time steps.\n",
        "  # B batch size\n",
        "  # F features\n",
        "  core = hk.LSTM(32)\n",
        "  batch_size = seqs.shape[1]\n",
        "  outs, state = hk.dynamic_unroll(core, seqs, core.initial_state(batch_size))\n",
        "  # We could include this Linear as part of the recurrent core!\n",
        "  # However, it's more efficient on modern accelerators to run the linear once\n",
        "  # over the entire sequence than once per sequence element.\n",
        "  return hk.BatchApply(hk.Linear(1))(outs), state\n",
        "\n",
        "\n",
        "def net_fn(x) -> jnp.ndarray:\n",
        "  \"\"\"https://github.com/deepmind/dm-haiku/blob/main/examples/mnist.py#L30\n",
        "  \"\"\"\n",
        "  mlp = hk.Sequential([\n",
        "      hk.Flatten(),\n",
        "      hk.Linear(4), jax.nn.relu,\n",
        "      hk.Linear(2)\n",
        "  ])\n",
        "  return mlp(x)\n",
        "\n",
        "# model = hk.transform(unroll_net)\n",
        "model = hk.transform(net_fn)\n",
        "\n",
        "def train_model(train_ds: Dataset, valid_ds: Dataset) -> hk.Params:\n",
        "  \"\"\"Initializes and trains a model on train_ds, returning the final params.\"\"\"\n",
        "  rng = jax.random.PRNGKey(428)\n",
        "  opt = optax.adam(1e-3)\n",
        "\n",
        "  @jax.jit\n",
        "  def loss(params, x, y):\n",
        "    pred = model.apply(params, None, x)\n",
        "    return jnp.mean(jnp.square(pred - y))\n",
        "\n",
        "  @jax.jit\n",
        "  def update(step, params, opt_state, x, y):\n",
        "    l, grads = jax.value_and_grad(loss)(params, x, y)\n",
        "    grads, opt_state = opt.update(grads, opt_state)\n",
        "    params = optax.apply_updates(params, grads)\n",
        "    return l, params, opt_state\n",
        "\n",
        "  # Initialize state.\n",
        "  sample_x, _ = next(train_ds)\n",
        "  params = model.init(rng, sample_x)\n",
        "  opt_state = opt.init(params)\n",
        "\n",
        "  for step in range(20001):\n",
        "    if step % 1000 == 0:\n",
        "      x, y = next(valid_ds)\n",
        "      print(\"Step {}: valid loss {}\".format(step, loss(params, x, y)))\n",
        "\n",
        "    x, y = next(train_ds)\n",
        "    train_loss, params, opt_state = update(step, params, opt_state, x, y)\n",
        "    if step % 100 == 0:\n",
        "      print(\"Step {}: train loss {}\".format(step, train_loss))\n",
        "\n",
        "  return params"
      ],
      "execution_count": 40,
      "outputs": []
    },
    {
      "cell_type": "code",
      "metadata": {
        "colab": {
          "base_uri": "https://localhost:8080/"
        },
        "id": "kiJdj-JSnWS9",
        "outputId": "2cec50ab-d8c2-46a1-acdb-29091590d682"
      },
      "source": [
        "trained_params = train_model(train_ds, valid_ds)"
      ],
      "execution_count": 41,
      "outputs": [
        {
          "output_type": "stream",
          "name": "stdout",
          "text": [
            "Step 0: valid loss 47.84747314453125\n",
            "Step 0: train loss 19.67671775817871\n",
            "Step 100: train loss 38.07251739501953\n",
            "Step 200: train loss 31.196619033813477\n",
            "Step 300: train loss 39.87221908569336\n",
            "Step 400: train loss 21.66625213623047\n",
            "Step 500: train loss 20.727420806884766\n",
            "Step 600: train loss 8.787806510925293\n",
            "Step 700: train loss 15.669486045837402\n",
            "Step 800: train loss 7.11230993270874\n",
            "Step 900: train loss 9.558319091796875\n",
            "Step 1000: valid loss 5.9487152099609375\n",
            "Step 1000: train loss 6.160392761230469\n",
            "Step 1100: train loss 8.06402587890625\n",
            "Step 1200: train loss 6.717275142669678\n",
            "Step 1300: train loss 5.102151393890381\n",
            "Step 1400: train loss 4.56059455871582\n",
            "Step 1500: train loss 2.6653473377227783\n",
            "Step 1600: train loss 6.950912952423096\n",
            "Step 1700: train loss 3.3794634342193604\n",
            "Step 1800: train loss 3.1752917766571045\n",
            "Step 1900: train loss 2.247728109359741\n",
            "Step 2000: valid loss 5.492514610290527\n",
            "Step 2000: train loss 4.3490071296691895\n",
            "Step 2100: train loss 1.1991899013519287\n",
            "Step 2200: train loss 3.724069595336914\n",
            "Step 2300: train loss 2.3871796131134033\n",
            "Step 2400: train loss 2.3161072731018066\n",
            "Step 2500: train loss 1.5972706079483032\n",
            "Step 2600: train loss 1.044694185256958\n",
            "Step 2700: train loss 1.3465296030044556\n",
            "Step 2800: train loss 2.1822845935821533\n",
            "Step 2900: train loss 0.44530969858169556\n",
            "Step 3000: valid loss 0.9163773655891418\n",
            "Step 3000: train loss 0.5696572661399841\n",
            "Step 3100: train loss 0.5195930004119873\n",
            "Step 3200: train loss 0.467023640871048\n",
            "Step 3300: train loss 0.16995002329349518\n",
            "Step 3400: train loss 0.2413126677274704\n",
            "Step 3500: train loss 0.039788443595170975\n",
            "Step 3600: train loss 0.08504875004291534\n",
            "Step 3700: train loss 0.011318226344883442\n",
            "Step 3800: train loss 0.18773411214351654\n",
            "Step 3900: train loss 0.21427245438098907\n",
            "Step 4000: valid loss 0.002926305402070284\n",
            "Step 4000: train loss 0.010826592333614826\n",
            "Step 4100: train loss 0.0232845488935709\n",
            "Step 4200: train loss 0.00436923885717988\n",
            "Step 4300: train loss 0.0036329084541648626\n",
            "Step 4400: train loss 0.001993465004488826\n",
            "Step 4500: train loss 0.002448887098580599\n",
            "Step 4600: train loss 0.011596310883760452\n",
            "Step 4700: train loss 0.0017100975383073092\n",
            "Step 4800: train loss 0.0010630377801135182\n",
            "Step 4900: train loss 0.008655267767608166\n",
            "Step 5000: valid loss 0.0004161421093158424\n",
            "Step 5000: train loss 0.0010096419136971235\n",
            "Step 5100: train loss 0.008345015347003937\n",
            "Step 5200: train loss 0.023332413285970688\n",
            "Step 5300: train loss 0.0005670218379236758\n",
            "Step 5400: train loss 0.00022125149553176016\n",
            "Step 5500: train loss 0.0002308842376805842\n",
            "Step 5600: train loss 0.0002800579823087901\n",
            "Step 5700: train loss 0.00016572025197092444\n",
            "Step 5800: train loss 0.0001175538418465294\n",
            "Step 5900: train loss 0.0001618489040993154\n",
            "Step 6000: valid loss 8.932200580602512e-05\n",
            "Step 6000: train loss 8.941327541833743e-05\n",
            "Step 6100: train loss 0.00016286129539366812\n",
            "Step 6200: train loss 4.906441972707398e-05\n",
            "Step 6300: train loss 5.409733421402052e-05\n",
            "Step 6400: train loss 4.8309822886949405e-05\n",
            "Step 6500: train loss 0.003216829616576433\n",
            "Step 6600: train loss 3.694639963214286e-05\n",
            "Step 6700: train loss 6.00800703978166e-05\n",
            "Step 6800: train loss 1.7596594261704013e-05\n",
            "Step 6900: train loss 1.8123548215953633e-05\n",
            "Step 7000: valid loss 1.884686753328424e-05\n",
            "Step 7000: train loss 2.0105449948459864e-05\n",
            "Step 7100: train loss 5.1491551857907325e-05\n",
            "Step 7200: train loss 2.9884875402785838e-05\n",
            "Step 7300: train loss 7.034534064587206e-05\n",
            "Step 7400: train loss 0.0013123976532369852\n",
            "Step 7500: train loss 4.331749732955359e-05\n",
            "Step 7600: train loss 0.00043914435082115233\n",
            "Step 7700: train loss 1.923454510688316e-05\n",
            "Step 7800: train loss 9.932165085047018e-06\n",
            "Step 7900: train loss 1.2124355635023676e-05\n",
            "Step 8000: valid loss 4.201073807053035e-06\n",
            "Step 8000: train loss 6.191158263391117e-06\n",
            "Step 8100: train loss 3.8132823192427168e-06\n",
            "Step 8200: train loss 3.3454696222179336e-06\n",
            "Step 8300: train loss 3.312496801299858e-06\n",
            "Step 8400: train loss 8.943852662923746e-07\n",
            "Step 8500: train loss 7.660388519070693e-07\n",
            "Step 8600: train loss 9.241068255505525e-06\n",
            "Step 8700: train loss 9.24674441193929e-06\n",
            "Step 8800: train loss 1.3854566986992722e-06\n",
            "Step 8900: train loss 2.292711360496469e-05\n",
            "Step 9000: valid loss 6.09886825486683e-08\n",
            "Step 9000: train loss 4.0100871956383344e-08\n",
            "Step 9100: train loss 1.7787479578146304e-07\n",
            "Step 9200: train loss 2.2461686057795305e-06\n",
            "Step 9300: train loss 0.0001448817056370899\n",
            "Step 9400: train loss 1.8201568309450522e-05\n",
            "Step 9500: train loss 2.100059681708899e-09\n",
            "Step 9600: train loss 0.00012199681077618152\n",
            "Step 9700: train loss 3.1136659117692034e-07\n",
            "Step 9800: train loss 7.499656931031495e-07\n",
            "Step 9900: train loss 0.0002975993847940117\n",
            "Step 10000: valid loss 3.610508656493039e-07\n",
            "Step 10000: train loss 0.0032653161324560642\n",
            "Step 10100: train loss 3.769199850012228e-07\n",
            "Step 10200: train loss 4.8240071919281036e-06\n",
            "Step 10300: train loss 8.557397013220225e-10\n",
            "Step 10400: train loss 2.7057353690906893e-07\n",
            "Step 10500: train loss 1.6818891026559868e-06\n",
            "Step 10600: train loss 6.231864517758368e-06\n",
            "Step 10700: train loss 1.6978488304175698e-07\n",
            "Step 10800: train loss 1.2033983693982009e-06\n",
            "Step 10900: train loss 3.9747405367052124e-10\n",
            "Step 11000: valid loss 8.832262032854032e-09\n",
            "Step 11000: train loss 7.940503365944096e-09\n",
            "Step 11100: train loss 4.1744122825093655e-08\n",
            "Step 11200: train loss 2.882827629946405e-07\n",
            "Step 11300: train loss 4.3275400685161003e-07\n",
            "Step 11400: train loss 5.92130163568072e-07\n",
            "Step 11500: train loss 5.661823898606144e-09\n",
            "Step 11600: train loss 1.3255669273348758e-06\n",
            "Step 11700: train loss 1.3718448599320254e-10\n",
            "Step 11800: train loss 1.8245795217808336e-05\n",
            "Step 11900: train loss 1.1536612873896956e-06\n",
            "Step 12000: valid loss 7.253879630297888e-07\n",
            "Step 12000: train loss 9.363369599668658e-07\n",
            "Step 12100: train loss 1.2614454369952455e-08\n",
            "Step 12200: train loss 4.294254907222239e-08\n",
            "Step 12300: train loss 2.1095411639748818e-08\n",
            "Step 12400: train loss 1.2228551504733787e-12\n",
            "Step 12500: train loss 1.3214782601522757e-09\n",
            "Step 12600: train loss 9.200133987974368e-09\n",
            "Step 12700: train loss 2.3787790269125253e-05\n",
            "Step 12800: train loss 1.3898339545903582e-07\n",
            "Step 12900: train loss 1.2503831303689594e-11\n",
            "Step 13000: valid loss 4.95910626341356e-07\n",
            "Step 13000: train loss 5.938927074566891e-07\n",
            "Step 13100: train loss 1.8682369540279353e-10\n",
            "Step 13200: train loss 2.3381296898605797e-13\n",
            "Step 13300: train loss 6.973287280942486e-09\n",
            "Step 13400: train loss 2.1032064978498966e-12\n",
            "Step 13500: train loss 6.785683126508957e-13\n",
            "Step 13600: train loss 2.578492974691926e-13\n",
            "Step 13700: train loss 6.348764003405449e-08\n",
            "Step 13800: train loss 5.1974646808616853e-11\n",
            "Step 13900: train loss 6.018256044626469e-07\n",
            "Step 14000: valid loss 2.7193259199975728e-08\n",
            "Step 14000: train loss 2.0335747308308783e-08\n",
            "Step 14100: train loss 5.594130159103372e-10\n",
            "Step 14200: train loss 1.7614348735150998e-07\n",
            "Step 14300: train loss 5.302416411723243e-06\n",
            "Step 14400: train loss 1.0843305631169642e-07\n",
            "Step 14500: train loss 4.508258655278041e-08\n",
            "Step 14600: train loss 5.596754726333586e-10\n",
            "Step 14700: train loss 1.2645218205875608e-11\n",
            "Step 14800: train loss 2.6592942958814092e-08\n",
            "Step 14900: train loss 1.3521628261514707e-10\n",
            "Step 15000: valid loss 1.864562727860175e-05\n",
            "Step 15000: train loss 1.987065843422897e-05\n",
            "Step 15100: train loss 1.5072455994413758e-07\n",
            "Step 15200: train loss 3.9496628190249794e-11\n",
            "Step 15300: train loss 3.089298261649276e-11\n",
            "Step 15400: train loss 1.7964657539337736e-12\n",
            "Step 15500: train loss 7.205347429817266e-13\n",
            "Step 15600: train loss 7.713829575095588e-13\n",
            "Step 15700: train loss 8.23163759378076e-12\n",
            "Step 15800: train loss 1.98685512486918e-12\n",
            "Step 15900: train loss 2.126106119249016e-05\n",
            "Step 16000: valid loss 1.4004202242290376e-09\n",
            "Step 16000: train loss 2.8941302687712778e-09\n",
            "Step 16100: train loss 6.019096332465779e-11\n",
            "Step 16200: train loss 4.694966637686093e-12\n",
            "Step 16300: train loss 3.1646352205427775e-12\n",
            "Step 16400: train loss 5.333390618034173e-07\n",
            "Step 16500: train loss 4.48295992327985e-07\n",
            "Step 16600: train loss 1.3778772256500815e-07\n",
            "Step 16700: train loss 2.5705361395012005e-07\n",
            "Step 16800: train loss 2.163940671096043e-08\n",
            "Step 16900: train loss 1.5181480250703316e-07\n",
            "Step 17000: valid loss 1.409879057945318e-08\n",
            "Step 17000: train loss 3.434257322965095e-08\n",
            "Step 17100: train loss 1.63253980645095e-06\n",
            "Step 17200: train loss 3.990435288869776e-07\n",
            "Step 17300: train loss 8.840381759966931e-09\n",
            "Step 17400: train loss 4.0679515311836667e-10\n",
            "Step 17500: train loss 7.642988464340306e-10\n",
            "Step 17600: train loss 1.7693918552552645e-10\n",
            "Step 17700: train loss 1.5903396377581203e-09\n",
            "Step 17800: train loss 2.6850782930409878e-08\n",
            "Step 17900: train loss 1.7331713024759665e-06\n",
            "Step 18000: valid loss 1.1451348314039933e-07\n",
            "Step 18000: train loss 1.0893216995100374e-07\n",
            "Step 18100: train loss 6.704256350076321e-08\n",
            "Step 18200: train loss 1.525718431594214e-07\n",
            "Step 18300: train loss 1.5405072417706833e-06\n",
            "Step 18400: train loss 2.1622585677505413e-07\n",
            "Step 18500: train loss 1.1102925867589875e-07\n",
            "Step 18600: train loss 6.24146878180909e-07\n",
            "Step 18700: train loss 3.6233723221812397e-06\n",
            "Step 18800: train loss 2.523970579204615e-07\n",
            "Step 18900: train loss 1.8231121057254995e-09\n",
            "Step 19000: valid loss 2.185363001672158e-11\n",
            "Step 19000: train loss 4.32596181099143e-11\n",
            "Step 19100: train loss 8.20867808215553e-06\n",
            "Step 19200: train loss 4.721825007436564e-06\n",
            "Step 19300: train loss 2.9198525908213924e-07\n",
            "Step 19400: train loss 2.718081404395889e-08\n",
            "Step 19500: train loss 5.000972969071427e-09\n",
            "Step 19600: train loss 3.756128741372322e-11\n",
            "Step 19700: train loss 5.112501533233171e-10\n",
            "Step 19800: train loss 1.7580187305910044e-10\n",
            "Step 19900: train loss 6.218773052069082e-09\n",
            "Step 20000: valid loss 4.0644476939633023e-07\n",
            "Step 20000: train loss 2.663383043000067e-07\n"
          ]
        }
      ]
    },
    {
      "cell_type": "markdown",
      "metadata": {
        "id": "OzFrI_lvnnxM"
      },
      "source": [
        "## Sampling\n",
        "\n",
        "The point of training models is so that they can make predictions! How can we generate predictions with the trained model?\n",
        "\n",
        "If we're allowed to feed in the ground truth, we can just run the original model's apply function."
      ]
    },
    {
      "cell_type": "code",
      "metadata": {
        "id": "iEkxBqXqnY_h"
      },
      "source": [
        "def plot_samples(truth: np.ndarray, prediction: np.ndarray) -> gg.ggplot:\n",
        "  assert truth.shape == prediction.shape\n",
        "  df = pd.DataFrame({'truth': truth.squeeze(), 'predicted': prediction.squeeze()}).reset_index()\n",
        "  df = pd.melt(df, id_vars=['index'], value_vars=['truth', 'predicted'])\n",
        "  plot = (\n",
        "      gg.ggplot(df)\n",
        "      + gg.aes(x='index', y='value', color='variable')\n",
        "      + gg.geom_line()\n",
        "  )\n",
        "  return plot"
      ],
      "execution_count": 42,
      "outputs": []
    },
    {
      "cell_type": "code",
      "metadata": {
        "colab": {
          "base_uri": "https://localhost:8080/",
          "height": 481
        },
        "id": "S-BiwPLwntko",
        "outputId": "4058b626-1682-4d77-ea8d-b5d22c79c71a"
      },
      "source": [
        "# Grab a sample from the validation set.\n",
        "sample_x, sample_y = next(valid_ds)\n",
        "sample_x = sample_x[:1, :]  # Shrink to batch-size 1.\n",
        "truth_y = sample_y[:1, :]\n",
        "\n",
        "# Generate a prediction, feeding in ground truth at each point as input.\n",
        "predicted = model.apply(trained_params, None, sample_x)\n",
        "\n",
        "print(f'predicted={predicted.shape}')\n",
        "print(f'truth_y={truth_y.shape}')\n",
        "\n",
        "plot = plot_samples(truth_y, predicted)\n",
        "plot.draw()\n",
        "del sample_x, predicted\n",
        "\n",
        "# Typically: the beginning of the predictions are a bit wonky, but the curve\n",
        "# quickly smoothes out."
      ],
      "execution_count": 43,
      "outputs": [
        {
          "output_type": "stream",
          "name": "stdout",
          "text": [
            "predicted=(1, 2)\n",
            "truth_y=(1, 2)\n"
          ]
        },
        {
          "output_type": "display_data",
          "data": {
            "image/png": "[encoded data removed]",
            "text/plain": [
              "<Figure size 640x480 with 1 Axes>"
            ]
          },
          "metadata": {}
        }
      ]
    }
  ]
}
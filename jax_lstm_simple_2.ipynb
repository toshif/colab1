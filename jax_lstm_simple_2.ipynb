{
  "nbformat": 4,
  "nbformat_minor": 0,
  "metadata": {
    "colab": {
      "name": "jax lstm simple 2.ipynb",
      "provenance": [],
      "collapsed_sections": [],
      "authorship_tag": "ABX9TyOyK6biBla6VTH65u/cIKTy",
      "include_colab_link": true
    },
    "kernelspec": {
      "display_name": "Python 3",
      "name": "python3"
    },
    "language_info": {
      "name": "python"
    }
  },
  "cells": [
    {
      "cell_type": "markdown",
      "metadata": {
        "id": "view-in-github",
        "colab_type": "text"
      },
      "source": [
        "<a href=\"https://colab.research.google.com/github/toshif/colab1/blob/main/jax_lstm_simple_2.ipynb\" target=\"_parent\"><img src=\"https://colab.research.google.com/assets/colab-badge.svg\" alt=\"Open In Colab\"/></a>"
      ]
    },
    {
      "cell_type": "markdown",
      "metadata": {
        "id": "HTghyOxNosCb"
      },
      "source": [
        "https://github.com/deepmind/dm-haiku/blob/main/examples/haiku_lstms.ipynb"
      ]
    },
    {
      "cell_type": "code",
      "metadata": {
        "colab": {
          "base_uri": "https://localhost:8080/"
        },
        "id": "56Dp5Rn8mIy7",
        "outputId": "b56bf435-f080-4012-9f5b-f3afd2d6a9d9"
      },
      "source": [
        "!pip install git+https://github.com/deepmind/dm-haiku"
      ],
      "execution_count": 4,
      "outputs": [
        {
          "output_type": "stream",
          "name": "stdout",
          "text": [
            "Collecting git+https://github.com/deepmind/dm-haiku\n",
            "  Cloning https://github.com/deepmind/dm-haiku to /tmp/pip-req-build-41_dkxlr\n",
            "  Running command git clone -q https://github.com/deepmind/dm-haiku /tmp/pip-req-build-41_dkxlr\n",
            "Requirement already satisfied: absl-py>=0.7.1 in /usr/local/lib/python3.7/dist-packages (from dm-haiku==0.0.6.dev0) (0.12.0)\n",
            "Requirement already satisfied: jmp>=0.0.2 in /usr/local/lib/python3.7/dist-packages (from dm-haiku==0.0.6.dev0) (0.0.2)\n",
            "Requirement already satisfied: numpy>=1.18.0 in /usr/local/lib/python3.7/dist-packages (from dm-haiku==0.0.6.dev0) (1.19.5)\n",
            "Requirement already satisfied: tabulate>=0.8.9 in /usr/local/lib/python3.7/dist-packages (from dm-haiku==0.0.6.dev0) (0.8.9)\n",
            "Requirement already satisfied: typing_extensions in /usr/local/lib/python3.7/dist-packages (from dm-haiku==0.0.6.dev0) (3.7.4.3)\n",
            "Requirement already satisfied: six in /usr/local/lib/python3.7/dist-packages (from absl-py>=0.7.1->dm-haiku==0.0.6.dev0) (1.15.0)\n"
          ]
        }
      ]
    },
    {
      "cell_type": "code",
      "metadata": {
        "colab": {
          "base_uri": "https://localhost:8080/"
        },
        "id": "bGMWwzrEmnG_",
        "outputId": "5f9c3160-4fe8-47ea-9145-4792c32662e5"
      },
      "source": [
        "!pip install optax"
      ],
      "execution_count": 5,
      "outputs": [
        {
          "output_type": "stream",
          "name": "stdout",
          "text": [
            "Requirement already satisfied: optax in /usr/local/lib/python3.7/dist-packages (0.0.9)\n",
            "Requirement already satisfied: numpy>=1.18.0 in /usr/local/lib/python3.7/dist-packages (from optax) (1.19.5)\n",
            "Requirement already satisfied: absl-py>=0.7.1 in /usr/local/lib/python3.7/dist-packages (from optax) (0.12.0)\n",
            "Requirement already satisfied: chex>=0.0.4 in /usr/local/lib/python3.7/dist-packages (from optax) (0.0.8)\n",
            "Requirement already satisfied: jaxlib>=0.1.37 in /usr/local/lib/python3.7/dist-packages (from optax) (0.1.71+cuda111)\n",
            "Requirement already satisfied: jax>=0.1.55 in /usr/local/lib/python3.7/dist-packages (from optax) (0.2.21)\n",
            "Requirement already satisfied: six in /usr/local/lib/python3.7/dist-packages (from absl-py>=0.7.1->optax) (1.15.0)\n",
            "Requirement already satisfied: toolz>=0.9.0 in /usr/local/lib/python3.7/dist-packages (from chex>=0.0.4->optax) (0.11.1)\n",
            "Requirement already satisfied: dm-tree>=0.1.5 in /usr/local/lib/python3.7/dist-packages (from chex>=0.0.4->optax) (0.1.6)\n",
            "Requirement already satisfied: scipy>=1.2.1 in /usr/local/lib/python3.7/dist-packages (from jax>=0.1.55->optax) (1.4.1)\n",
            "Requirement already satisfied: opt-einsum in /usr/local/lib/python3.7/dist-packages (from jax>=0.1.55->optax) (3.3.0)\n",
            "Requirement already satisfied: flatbuffers<3.0,>=1.12 in /usr/local/lib/python3.7/dist-packages (from jaxlib>=0.1.37->optax) (1.12)\n"
          ]
        }
      ]
    },
    {
      "cell_type": "code",
      "metadata": {
        "id": "yhavHsDtmYXV"
      },
      "source": [
        "import functools\n",
        "import math\n",
        "from typing import Tuple, TypeVar\n",
        "import warnings\n",
        "\n",
        "import haiku as hk\n",
        "import jax\n",
        "import jax.numpy as jnp\n",
        "import optax\n",
        "import numpy as np\n",
        "import pandas as pd\n",
        "import plotnine as gg\n",
        "\n",
        "T = TypeVar('T')\n",
        "Pair = Tuple[T, T]\n",
        "\n",
        "gg.theme_set(gg.theme_bw())\n",
        "warnings.filterwarnings('ignore')"
      ],
      "execution_count": 6,
      "outputs": []
    },
    {
      "cell_type": "markdown",
      "metadata": {
        "id": "Qhy7LlVLnJF5"
      },
      "source": [
        "In this notebook, we generate many sine waves (of the same period), and try to predict the next value in the wave based on its previous values.\n",
        "\n",
        "For simplicity, we generate static-sized datasets and wrap them with an iterator-based API."
      ]
    },
    {
      "cell_type": "code",
      "metadata": {
        "id": "Ug1fY3JcmerE",
        "colab": {
          "base_uri": "https://localhost:8080/"
        },
        "outputId": "c7367491-c007-4f9d-a76e-5061c82bfdc6"
      },
      "source": [
        "def sine_seq(\n",
        "    train_num: int,\n",
        "    val_num: int\n",
        ") -> Pair[np.ndarray]:\n",
        "  \"\"\"Returns x, y in [T, B] tensor.\"\"\"\n",
        "  channels = 2\n",
        "  x = np.random.rand(4, train_num + val_num, channels)\n",
        "  y = x[:2, :, -1:] * 10\n",
        "  return x, y\n",
        "\n",
        "x, y = sine_seq(7, 3)\n",
        "print(f'x={x.shape}, y={y.shape}')\n",
        "del x, y"
      ],
      "execution_count": 9,
      "outputs": [
        {
          "output_type": "stream",
          "name": "stdout",
          "text": [
            "x=(4, 10, 2), y=(2, 10, 1)\n"
          ]
        }
      ]
    },
    {
      "cell_type": "code",
      "metadata": {
        "id": "lNmoq91tFuOz",
        "colab": {
          "base_uri": "https://localhost:8080/"
        },
        "outputId": "52d4cf7e-39ed-4f62-a87c-517318e52015"
      },
      "source": [
        "def generate_data(\n",
        "    train_size: int,\n",
        "    valid_size: int,\n",
        ") -> Pair[Pair[np.ndarray]]:\n",
        "  all_x, all_y = sine_seq(train_size, valid_size)\n",
        "\n",
        "  train_x = all_x[:, :train_size]\n",
        "  train_y = all_y[:, :train_size]\n",
        "\n",
        "  valid_x = all_x[:, train_size:]\n",
        "  valid_y = all_y[:, train_size:]\n",
        "\n",
        "  return (train_x, train_y), (valid_x, valid_y)\n",
        "\n",
        "\n",
        "class Dataset:\n",
        "  \"\"\"An iterator over a numpy array, revealing batch_size elements at a time.\"\"\"\n",
        "\n",
        "  def __init__(self, xy: Pair[np.ndarray], batch_size: int):\n",
        "    self._x, self._y = xy\n",
        "    self._batch_size = batch_size\n",
        "    self._length = self._x.shape[1]\n",
        "    self._idx = 0\n",
        "    if self._length % batch_size != 0:\n",
        "      msg = 'dataset size {} must be divisible by batch_size {}.'\n",
        "      raise ValueError(msg.format(self._length, batch_size))\n",
        "\n",
        "  def __next__(self) -> Pair[np.ndarray]:\n",
        "    start = self._idx\n",
        "    end = start + self._batch_size\n",
        "    x, y = self._x[:, start:end], self._y[:, start:end]\n",
        "    if end >= self._length:\n",
        "      end = end % self._length\n",
        "      assert end == 0  # Guaranteed by ctor assertion.\n",
        "    self._idx = end\n",
        "\n",
        "    # tmp for MLP\n",
        "    x = np.transpose(x, axes=(1, 0, 2))\n",
        "    y = np.transpose(y, axes=(1, 0, 2))\n",
        "    y = y.reshape(y.shape[0], -1)\n",
        "\n",
        "    return x, y\n",
        "\n",
        "\n",
        "tr1, val1 = generate_data(20, 8)\n",
        "print(f'train shape x={tr1[0].shape}, y={tr1[1].shape}')\n",
        "print(f'val1 shape x={val1[0].shape}, y={val1[1].shape}')\n",
        "\n",
        "train_ds1 = Dataset(tr1, 4)\n",
        "train_ds1_sample = next(train_ds1)\n",
        "print(f'train_ds1_sample x={train_ds1_sample[0].shape}, y={train_ds1_sample[1].shape}')\n",
        "del tr1, val1, train_ds1, train_ds1_sample"
      ],
      "execution_count": 10,
      "outputs": [
        {
          "output_type": "stream",
          "name": "stdout",
          "text": [
            "train shape x=(4, 20, 2), y=(2, 20, 1)\n",
            "val1 shape x=(4, 8, 2), y=(2, 8, 1)\n",
            "train_ds1_sample x=(4, 4, 2), y=(4, 2)\n"
          ]
        }
      ]
    },
    {
      "cell_type": "code",
      "metadata": {
        "colab": {
          "base_uri": "https://localhost:8080/",
          "height": 447
        },
        "id": "HgetZQm5mlc0",
        "outputId": "83045002-82dc-47db-f110-938df3b104d9"
      },
      "source": [
        "TRAIN_SIZE = 2 ** 14\n",
        "VALID_SIZE = 128\n",
        "BATCH_SIZE = 8\n",
        "SEQ_LEN = 64\n",
        "\n",
        "train, valid = generate_data(TRAIN_SIZE, VALID_SIZE)\n",
        "\n",
        "# Plot an observation/target pair.\n",
        "df = pd.DataFrame({'train0': np.append(train[0][:, 0, 1], train[1][:, 0, 0]), \n",
        "                   'val0': np.append(valid[0][:, 0, 1], valid[1][:, 0, 0])}).reset_index()\n",
        "df = pd.melt(df, id_vars=['index'], value_vars=['train0', 'val0'])\n",
        "plot = gg.ggplot(df) + gg.aes(x='index', y='value', color='variable') + gg.geom_line()\n",
        "plot.draw()\n",
        "\n",
        "train_ds = Dataset(train, BATCH_SIZE)\n",
        "valid_ds = Dataset(valid, BATCH_SIZE)\n",
        "del train, valid  # Don't leak temporaries."
      ],
      "execution_count": 14,
      "outputs": [
        {
          "output_type": "display_data",
          "data": {
            "image/png": "[encoded data removed]",
            "text/plain": [
              "<Figure size 640x480 with 1 Axes>"
            ]
          },
          "metadata": {}
        }
      ]
    },
    {
      "cell_type": "markdown",
      "metadata": {
        "id": "9FvUWedfnH_o"
      },
      "source": [
        "##Training an LSTM\n",
        "\n",
        "To train the LSTM, we define a Haiku function which unrolls the LSTM over the input sequence, generating predictions for all output values. The LSTM always starts with its initial state at the start of the sequence.\n",
        "\n",
        "The Haiku function is then transformed into a pure function through hk.transform, and is trained with Adam on an L2 prediction loss."
      ]
    },
    {
      "cell_type": "code",
      "metadata": {
        "id": "6J1eiJJnnVLd"
      },
      "source": [
        "def unroll_net(seqs: jnp.ndarray):\n",
        "  \"\"\"Unrolls an LSTM over seqs, mapping each output to a scalar.\"\"\"\n",
        "  # seqs is [T, B, F].\n",
        "  # T is the number of time steps.\n",
        "  # B batch size\n",
        "  # F features\n",
        "  core = hk.LSTM(32)\n",
        "  batch_size = seqs.shape[1]\n",
        "  outs, state = hk.dynamic_unroll(core, seqs, core.initial_state(batch_size))\n",
        "  # We could include this Linear as part of the recurrent core!\n",
        "  # However, it's more efficient on modern accelerators to run the linear once\n",
        "  # over the entire sequence than once per sequence element.\n",
        "  return hk.BatchApply(hk.Linear(1))(outs), state\n",
        "\n",
        "\n",
        "def net_fn(x) -> jnp.ndarray:\n",
        "  \"\"\"https://github.com/deepmind/dm-haiku/blob/main/examples/mnist.py#L30\n",
        "  \"\"\"\n",
        "  mlp = hk.Sequential([\n",
        "      hk.Flatten(),\n",
        "      hk.Linear(4), jax.nn.relu,\n",
        "      hk.Linear(2)\n",
        "  ])\n",
        "  return mlp(x)\n",
        "\n",
        "# model = hk.transform(unroll_net)\n",
        "model = hk.transform(net_fn)\n",
        "\n",
        "def train_model(train_ds: Dataset, valid_ds: Dataset) -> hk.Params:\n",
        "  \"\"\"Initializes and trains a model on train_ds, returning the final params.\"\"\"\n",
        "  rng = jax.random.PRNGKey(428)\n",
        "  opt = optax.adam(1e-3)\n",
        "\n",
        "  @jax.jit\n",
        "  def loss(params, x, y):\n",
        "    pred = model.apply(params, None, x)\n",
        "    return jnp.mean(jnp.square(pred - y))\n",
        "\n",
        "  @jax.jit\n",
        "  def update(step, params, opt_state, x, y):\n",
        "    l, grads = jax.value_and_grad(loss)(params, x, y)\n",
        "    grads, opt_state = opt.update(grads, opt_state)\n",
        "    params = optax.apply_updates(params, grads)\n",
        "    return l, params, opt_state\n",
        "\n",
        "  # Initialize state.\n",
        "  sample_x, _ = next(train_ds)\n",
        "  params = model.init(rng, sample_x)\n",
        "  opt_state = opt.init(params)\n",
        "\n",
        "  for step in range(20001):\n",
        "    if step % 1000 == 0:\n",
        "      x, y = next(valid_ds)\n",
        "      print(\"Step {}: valid loss {}\".format(step, loss(params, x, y)))\n",
        "\n",
        "    x, y = next(train_ds)\n",
        "    train_loss, params, opt_state = update(step, params, opt_state, x, y)\n",
        "    if step % 1000 == 0:\n",
        "      print(\"Step {}: train loss {}\".format(step, train_loss))\n",
        "\n",
        "  return params"
      ],
      "execution_count": 17,
      "outputs": []
    },
    {
      "cell_type": "code",
      "metadata": {
        "colab": {
          "base_uri": "https://localhost:8080/"
        },
        "id": "kiJdj-JSnWS9",
        "outputId": "473368b1-3a25-457f-9f9c-9116007d52b6"
      },
      "source": [
        "trained_params = train_model(train_ds, valid_ds)"
      ],
      "execution_count": 18,
      "outputs": [
        {
          "output_type": "stream",
          "name": "stdout",
          "text": [
            "Step 0: valid loss 45.296871185302734\n",
            "Step 0: train loss 43.58987808227539\n",
            "Step 1000: valid loss 9.762608528137207\n",
            "Step 1000: train loss 9.76577091217041\n",
            "Step 2000: valid loss 2.9613349437713623\n",
            "Step 2000: train loss 2.260577440261841\n",
            "Step 3000: valid loss 0.5105446577072144\n",
            "Step 3000: train loss 0.27177703380584717\n",
            "Step 4000: valid loss 0.10699909925460815\n",
            "Step 4000: train loss 0.048330724239349365\n",
            "Step 5000: valid loss 0.007189274299889803\n",
            "Step 5000: train loss 0.006919306702911854\n",
            "Step 6000: valid loss 0.00014905931311659515\n",
            "Step 6000: train loss 0.02068115770816803\n",
            "Step 7000: valid loss 3.3792253816500306e-05\n",
            "Step 7000: train loss 2.1875639504287392e-05\n",
            "Step 8000: valid loss 5.23436665389454e-06\n",
            "Step 8000: train loss 6.846877113275696e-06\n",
            "Step 9000: valid loss 2.194813896494452e-05\n",
            "Step 9000: train loss 3.005073631356936e-05\n",
            "Step 10000: valid loss 2.799320668600558e-07\n",
            "Step 10000: train loss 7.607681027366198e-07\n",
            "Step 11000: valid loss 6.987436904637434e-07\n",
            "Step 11000: train loss 8.145108836288273e-07\n",
            "Step 12000: valid loss 1.8842555959963647e-07\n",
            "Step 12000: train loss 3.071177161473315e-07\n",
            "Step 13000: valid loss 1.233294716351807e-12\n",
            "Step 13000: train loss 8.182343691487404e-13\n",
            "Step 14000: valid loss 1.8766293408134516e-08\n",
            "Step 14000: train loss 2.1684796180920785e-08\n",
            "Step 15000: valid loss 4.406008891066904e-11\n",
            "Step 15000: train loss 8.506267912267163e-11\n",
            "Step 16000: valid loss 3.944622406493181e-12\n",
            "Step 16000: train loss 2.5229818234606682e-12\n",
            "Step 17000: valid loss 9.14662234841046e-11\n",
            "Step 17000: train loss 7.524736389541431e-11\n",
            "Step 18000: valid loss 8.201370138571917e-12\n",
            "Step 18000: train loss 3.5912045906472123e-12\n",
            "Step 19000: valid loss 6.525484597119657e-10\n",
            "Step 19000: train loss 8.174996790621947e-10\n",
            "Step 20000: valid loss 2.6415369891452656e-11\n",
            "Step 20000: train loss 3.660188818699339e-11\n"
          ]
        }
      ]
    },
    {
      "cell_type": "markdown",
      "metadata": {
        "id": "OzFrI_lvnnxM"
      },
      "source": [
        "## Sampling\n",
        "\n",
        "The point of training models is so that they can make predictions! How can we generate predictions with the trained model?\n",
        "\n",
        "If we're allowed to feed in the ground truth, we can just run the original model's apply function."
      ]
    },
    {
      "cell_type": "code",
      "metadata": {
        "id": "iEkxBqXqnY_h"
      },
      "source": [
        "def plot_samples(truth: np.ndarray, prediction: np.ndarray) -> gg.ggplot:\n",
        "  assert truth.shape == prediction.shape\n",
        "  df = pd.DataFrame({'truth': truth.squeeze(), 'predicted': prediction.squeeze()}).reset_index()\n",
        "  df = pd.melt(df, id_vars=['index'], value_vars=['truth', 'predicted'])\n",
        "  plot = (\n",
        "      gg.ggplot(df)\n",
        "      + gg.aes(x='index', y='value', color='variable')\n",
        "      + gg.geom_line()\n",
        "  )\n",
        "  return plot"
      ],
      "execution_count": 19,
      "outputs": []
    },
    {
      "cell_type": "code",
      "metadata": {
        "colab": {
          "base_uri": "https://localhost:8080/",
          "height": 548
        },
        "id": "S-BiwPLwntko",
        "outputId": "21a11d2c-16e6-4958-b7e2-8c30877ffefd"
      },
      "source": [
        "# Grab a sample from the validation set.\n",
        "sample_x, sample_y = next(valid_ds)\n",
        "sample_x = sample_x[:1, :]  # Shrink to batch-size 1.\n",
        "truth_y = sample_y[:1, :]\n",
        "\n",
        "\n",
        "# Generate a prediction, feeding in ground truth at each point as input.\n",
        "predicted = model.apply(trained_params, None, sample_x)\n",
        "\n",
        "print(f'sample_x={sample_x}')\n",
        "print(f'truth_y={truth_y}')\n",
        "print(f'predicted={predicted}')\n",
        "\n",
        "# print(f'predicted shape={predicted.shape}')\n",
        "# print(f'truth_y shape={truth_y.shape}')\n",
        "\n",
        "plot = plot_samples(truth_y, predicted)\n",
        "plot.draw()\n",
        "del sample_x, predicted\n",
        "\n",
        "# Typically: the beginning of the predictions are a bit wonky, but the curve\n",
        "# quickly smoothes out."
      ],
      "execution_count": 22,
      "outputs": [
        {
          "output_type": "stream",
          "name": "stdout",
          "text": [
            "sample_x=[[[0.16180244 0.32894737]\n",
            "  [0.20525675 0.00495722]\n",
            "  [0.08904051 0.55257736]\n",
            "  [0.49784389 0.09668387]]]\n",
            "truth_y=[[3.28947372 0.04957219]]\n",
            "predicted=[[3.2894702  0.04957116]]\n"
          ]
        },
        {
          "output_type": "display_data",
          "data": {
            "image/png": "[encoded data removed]",
            "text/plain": [
              "<Figure size 640x480 with 1 Axes>"
            ]
          },
          "metadata": {}
        }
      ]
    },
    {
      "cell_type": "code",
      "metadata": {
        "id": "WXHNUZHI0hUD"
      },
      "source": [
        ""
      ],
      "execution_count": null,
      "outputs": []
    }
  ]
}
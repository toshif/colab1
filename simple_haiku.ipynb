{
  "nbformat": 4,
  "nbformat_minor": 0,
  "metadata": {
    "colab": {
      "name": "simple haiku.ipynb",
      "provenance": [],
      "authorship_tag": "ABX9TyMF5ixSgIPzE/NUYr+ZO+24",
      "include_colab_link": true
    },
    "kernelspec": {
      "name": "python3",
      "display_name": "Python 3"
    },
    "language_info": {
      "name": "python"
    }
  },
  "cells": [
    {
      "cell_type": "markdown",
      "metadata": {
        "id": "view-in-github",
        "colab_type": "text"
      },
      "source": [
        "<a href=\"https://colab.research.google.com/github/toshif/colab1/blob/main/simple_haiku.ipynb\" target=\"_parent\"><img src=\"https://colab.research.google.com/assets/colab-badge.svg\" alt=\"Open In Colab\"/></a>"
      ]
    },
    {
      "cell_type": "code",
      "metadata": {
        "id": "5M2zi15KWgmk"
      },
      "source": [
        ""
      ],
      "execution_count": null,
      "outputs": []
    },
    {
      "cell_type": "code",
      "metadata": {
        "colab": {
          "base_uri": "https://localhost:8080/"
        },
        "id": "56Dp5Rn8mIy7",
        "outputId": "2e320e6f-6b1c-4057-d587-8c492859639d"
      },
      "source": [
        "!pip install git+https://github.com/deepmind/dm-haiku"
      ],
      "execution_count": null,
      "outputs": [
        {
          "output_type": "stream",
          "name": "stdout",
          "text": [
            "Collecting git+https://github.com/deepmind/dm-haiku\n",
            "  Cloning https://github.com/deepmind/dm-haiku to /tmp/pip-req-build-i2gv6fsh\n",
            "  Running command git clone -q https://github.com/deepmind/dm-haiku /tmp/pip-req-build-i2gv6fsh\n",
            "Requirement already satisfied: absl-py>=0.7.1 in /usr/local/lib/python3.7/dist-packages (from dm-haiku==0.0.6.dev0) (0.12.0)\n",
            "Collecting jmp>=0.0.2\n",
            "  Downloading jmp-0.0.2-py3-none-any.whl (16 kB)\n",
            "Requirement already satisfied: numpy>=1.18.0 in /usr/local/lib/python3.7/dist-packages (from dm-haiku==0.0.6.dev0) (1.19.5)\n",
            "Requirement already satisfied: tabulate>=0.8.9 in /usr/local/lib/python3.7/dist-packages (from dm-haiku==0.0.6.dev0) (0.8.9)\n",
            "Requirement already satisfied: typing_extensions in /usr/local/lib/python3.7/dist-packages (from dm-haiku==0.0.6.dev0) (3.7.4.3)\n",
            "Requirement already satisfied: six in /usr/local/lib/python3.7/dist-packages (from absl-py>=0.7.1->dm-haiku==0.0.6.dev0) (1.15.0)\n",
            "Building wheels for collected packages: dm-haiku\n",
            "  Building wheel for dm-haiku (setup.py) ... \u001b[?25l\u001b[?25hdone\n",
            "  Created wheel for dm-haiku: filename=dm_haiku-0.0.6.dev0-py3-none-any.whl size=537308 sha256=158e4417ad68bac4ed63ba5cb8c2587c89bdbdfe400df3a8bd6da64ca47fea9a\n",
            "  Stored in directory: /tmp/pip-ephem-wheel-cache-wnlfkk3e/wheels/06/28/69/ebaac5b2435641427299f29d88d005fb4e2627f4a108f0bdbc\n",
            "Successfully built dm-haiku\n",
            "Installing collected packages: jmp, dm-haiku\n",
            "Successfully installed dm-haiku-0.0.6.dev0 jmp-0.0.2\n"
          ]
        }
      ]
    },
    {
      "cell_type": "code",
      "metadata": {
        "colab": {
          "base_uri": "https://localhost:8080/"
        },
        "id": "bGMWwzrEmnG_",
        "outputId": "6da262cd-3e81-4c57-bd6a-73117f4ec22a"
      },
      "source": [
        "!pip install optax"
      ],
      "execution_count": null,
      "outputs": [
        {
          "output_type": "stream",
          "name": "stdout",
          "text": [
            "Collecting optax\n",
            "  Downloading optax-0.0.9-py3-none-any.whl (118 kB)\n",
            "\u001b[K     |████████████████████████████████| 118 kB 4.2 MB/s \n",
            "\u001b[?25hRequirement already satisfied: absl-py>=0.7.1 in /usr/local/lib/python3.7/dist-packages (from optax) (0.12.0)\n",
            "Requirement already satisfied: jaxlib>=0.1.37 in /usr/local/lib/python3.7/dist-packages (from optax) (0.1.71+cuda111)\n",
            "Collecting chex>=0.0.4\n",
            "  Downloading chex-0.0.8-py3-none-any.whl (57 kB)\n",
            "\u001b[K     |████████████████████████████████| 57 kB 4.8 MB/s \n",
            "\u001b[?25hRequirement already satisfied: jax>=0.1.55 in /usr/local/lib/python3.7/dist-packages (from optax) (0.2.21)\n",
            "Requirement already satisfied: numpy>=1.18.0 in /usr/local/lib/python3.7/dist-packages (from optax) (1.19.5)\n",
            "Requirement already satisfied: six in /usr/local/lib/python3.7/dist-packages (from absl-py>=0.7.1->optax) (1.15.0)\n",
            "Requirement already satisfied: dm-tree>=0.1.5 in /usr/local/lib/python3.7/dist-packages (from chex>=0.0.4->optax) (0.1.6)\n",
            "Requirement already satisfied: toolz>=0.9.0 in /usr/local/lib/python3.7/dist-packages (from chex>=0.0.4->optax) (0.11.1)\n",
            "Requirement already satisfied: opt-einsum in /usr/local/lib/python3.7/dist-packages (from jax>=0.1.55->optax) (3.3.0)\n",
            "Requirement already satisfied: scipy>=1.2.1 in /usr/local/lib/python3.7/dist-packages (from jax>=0.1.55->optax) (1.4.1)\n",
            "Requirement already satisfied: flatbuffers<3.0,>=1.12 in /usr/local/lib/python3.7/dist-packages (from jaxlib>=0.1.37->optax) (1.12)\n",
            "Installing collected packages: chex, optax\n",
            "Successfully installed chex-0.0.8 optax-0.0.9\n"
          ]
        }
      ]
    },
    {
      "cell_type": "code",
      "metadata": {
        "id": "yhavHsDtmYXV"
      },
      "source": [
        "import functools\n",
        "import math\n",
        "from typing import Tuple, TypeVar\n",
        "import warnings\n",
        "\n",
        "import haiku as hk\n",
        "import jax\n",
        "import jax.numpy as jnp\n",
        "import optax\n",
        "import numpy as np\n",
        "import pandas as pd\n",
        "import plotnine as gg\n",
        "\n",
        "T = TypeVar('T')\n",
        "Pair = Tuple[T, T]\n",
        "\n",
        "gg.theme_set(gg.theme_bw())\n",
        "warnings.filterwarnings('ignore')"
      ],
      "execution_count": null,
      "outputs": []
    },
    {
      "cell_type": "code",
      "metadata": {
        "colab": {
          "base_uri": "https://localhost:8080/"
        },
        "id": "R73NeQrsWXrP",
        "outputId": "959e4f54-f4fa-443c-d7f2-5e0b78891600"
      },
      "source": [
        "x = jnp.ones([3, 2, 4])\n",
        "y = jnp.ones([3, 8]) * 5\n",
        "\n",
        "def my_net_fn(x):\n",
        "  mlp = hk.Sequential([\n",
        "      hk.Flatten(),\n",
        "  ])\n",
        "  return mlp(x)\n",
        "\n",
        "model = hk.transform(my_net_fn)\n",
        "\n",
        "rng = jax.random.PRNGKey(428)\n",
        "params = model.init(rng, x)\n",
        "\n",
        "model.apply(params, None, x)"
      ],
      "execution_count": null,
      "outputs": [
        {
          "output_type": "stream",
          "name": "stderr",
          "text": [
            "WARNING:absl:No GPU/TPU found, falling back to CPU. (Set TF_CPP_MIN_LOG_LEVEL=0 and rerun for more info.)\n"
          ]
        },
        {
          "output_type": "execute_result",
          "data": {
            "text/plain": [
              "DeviceArray([[1., 1., 1., 1., 1., 1., 1., 1.],\n",
              "             [1., 1., 1., 1., 1., 1., 1., 1.],\n",
              "             [1., 1., 1., 1., 1., 1., 1., 1.]], dtype=float32)"
            ]
          },
          "metadata": {},
          "execution_count": 4
        }
      ]
    },
    {
      "cell_type": "code",
      "metadata": {
        "id": "W38FeAl7WtlG"
      },
      "source": [
        "@jax.jit\n",
        "def loss(params, x, y):\n",
        "  print(f'params={params}, x={x.shape}, y={y.shape}')\n",
        "  pred, _ = model.apply(params, None, x)\n",
        "  return jnp.mean(jnp.square(pred - y))\n",
        "\n",
        "@jax.jit\n",
        "def update(step, params, opt_state, x, y):\n",
        "  l, grads = jax.value_and_grad(loss)(params, x, y)\n",
        "  grads, opt_state = opt.update(grads, opt_state)\n",
        "  params = optax.apply_updates(params, grads)\n",
        "  return l, params, opt_state\n",
        "\n",
        "opt = optax.adam(1e-3)\n",
        "opt_state = opt.init(params)\n",
        "\n",
        "loss1 = loss(params, x, y)\n",
        "print(f'loss1={loss1}')\n",
        "\n",
        "for step in range(10):\n",
        "  if step % 100 == 0:\n",
        "    x, y = next(valid_ds)\n",
        "    print(\"Step {}: valid loss {}\".format(step, loss(params, x, y)))\n",
        "\n",
        "  x, y = next(train_ds)\n",
        "  train_loss, params, opt_state = update(step, params, opt_state, x, y)\n",
        "  if step % 100 == 0:\n",
        "    print(\"Step {}: train loss {}\".format(step, train_loss))"
      ],
      "execution_count": null,
      "outputs": []
    }
  ]
}
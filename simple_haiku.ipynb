{
  "nbformat": 4,
  "nbformat_minor": 0,
  "metadata": {
    "colab": {
      "name": "simple haiku.ipynb",
      "provenance": [],
      "collapsed_sections": [],
      "authorship_tag": "ABX9TyOss4737jmE3zqWE4sWoKig",
      "include_colab_link": true
    },
    "kernelspec": {
      "name": "python3",
      "display_name": "Python 3"
    },
    "language_info": {
      "name": "python"
    }
  },
  "cells": [
    {
      "cell_type": "markdown",
      "metadata": {
        "id": "view-in-github",
        "colab_type": "text"
      },
      "source": [
        "<a href=\"https://colab.research.google.com/github/toshif/colab1/blob/main/simple_haiku.ipynb\" target=\"_parent\"><img src=\"https://colab.research.google.com/assets/colab-badge.svg\" alt=\"Open In Colab\"/></a>"
      ]
    },
    {
      "cell_type": "code",
      "metadata": {
        "id": "5M2zi15KWgmk"
      },
      "source": [
        ""
      ],
      "execution_count": null,
      "outputs": []
    },
    {
      "cell_type": "code",
      "metadata": {
        "colab": {
          "base_uri": "https://localhost:8080/"
        },
        "id": "56Dp5Rn8mIy7",
        "outputId": "26b12216-457e-453e-d449-43ad5d6e7abd"
      },
      "source": [
        "!pip install git+https://github.com/deepmind/dm-haiku"
      ],
      "execution_count": 1,
      "outputs": [
        {
          "output_type": "stream",
          "name": "stdout",
          "text": [
            "Collecting git+https://github.com/deepmind/dm-haiku\n",
            "  Cloning https://github.com/deepmind/dm-haiku to /tmp/pip-req-build-7codpdzr\n",
            "  Running command git clone -q https://github.com/deepmind/dm-haiku /tmp/pip-req-build-7codpdzr\n",
            "Requirement already satisfied: absl-py>=0.7.1 in /usr/local/lib/python3.7/dist-packages (from dm-haiku==0.0.6.dev0) (0.12.0)\n",
            "Collecting jmp>=0.0.2\n",
            "  Downloading jmp-0.0.2-py3-none-any.whl (16 kB)\n",
            "Requirement already satisfied: numpy>=1.18.0 in /usr/local/lib/python3.7/dist-packages (from dm-haiku==0.0.6.dev0) (1.19.5)\n",
            "Requirement already satisfied: tabulate>=0.8.9 in /usr/local/lib/python3.7/dist-packages (from dm-haiku==0.0.6.dev0) (0.8.9)\n",
            "Requirement already satisfied: typing_extensions in /usr/local/lib/python3.7/dist-packages (from dm-haiku==0.0.6.dev0) (3.7.4.3)\n",
            "Requirement already satisfied: six in /usr/local/lib/python3.7/dist-packages (from absl-py>=0.7.1->dm-haiku==0.0.6.dev0) (1.15.0)\n",
            "Building wheels for collected packages: dm-haiku\n",
            "  Building wheel for dm-haiku (setup.py) ... \u001b[?25l\u001b[?25hdone\n",
            "  Created wheel for dm-haiku: filename=dm_haiku-0.0.6.dev0-py3-none-any.whl size=537308 sha256=3f8d0226978563449ba0073f97a08d57739ecc9b57511e74cc6476502aa4fd77\n",
            "  Stored in directory: /tmp/pip-ephem-wheel-cache-p63y6fkg/wheels/06/28/69/ebaac5b2435641427299f29d88d005fb4e2627f4a108f0bdbc\n",
            "Successfully built dm-haiku\n",
            "Installing collected packages: jmp, dm-haiku\n",
            "Successfully installed dm-haiku-0.0.6.dev0 jmp-0.0.2\n"
          ]
        }
      ]
    },
    {
      "cell_type": "code",
      "metadata": {
        "colab": {
          "base_uri": "https://localhost:8080/"
        },
        "id": "bGMWwzrEmnG_",
        "outputId": "d5ef23ef-4fcc-4361-d450-113d680af15d"
      },
      "source": [
        "!pip install optax"
      ],
      "execution_count": 2,
      "outputs": [
        {
          "output_type": "stream",
          "name": "stdout",
          "text": [
            "Collecting optax\n",
            "  Downloading optax-0.0.9-py3-none-any.whl (118 kB)\n",
            "\u001b[?25l\r\u001b[K     |██▊                             | 10 kB 22.5 MB/s eta 0:00:01\r\u001b[K     |█████▌                          | 20 kB 26.5 MB/s eta 0:00:01\r\u001b[K     |████████▎                       | 30 kB 14.3 MB/s eta 0:00:01\r\u001b[K     |███████████                     | 40 kB 10.6 MB/s eta 0:00:01\r\u001b[K     |█████████████▊                  | 51 kB 4.4 MB/s eta 0:00:01\r\u001b[K     |████████████████▌               | 61 kB 4.7 MB/s eta 0:00:01\r\u001b[K     |███████████████████▎            | 71 kB 4.3 MB/s eta 0:00:01\r\u001b[K     |██████████████████████          | 81 kB 4.8 MB/s eta 0:00:01\r\u001b[K     |████████████████████████▉       | 92 kB 4.9 MB/s eta 0:00:01\r\u001b[K     |███████████████████████████▌    | 102 kB 4.2 MB/s eta 0:00:01\r\u001b[K     |██████████████████████████████▎ | 112 kB 4.2 MB/s eta 0:00:01\r\u001b[K     |████████████████████████████████| 118 kB 4.2 MB/s \n",
            "\u001b[?25hRequirement already satisfied: absl-py>=0.7.1 in /usr/local/lib/python3.7/dist-packages (from optax) (0.12.0)\n",
            "Requirement already satisfied: jax>=0.1.55 in /usr/local/lib/python3.7/dist-packages (from optax) (0.2.21)\n",
            "Collecting chex>=0.0.4\n",
            "  Downloading chex-0.0.8-py3-none-any.whl (57 kB)\n",
            "\u001b[K     |████████████████████████████████| 57 kB 4.3 MB/s \n",
            "\u001b[?25hRequirement already satisfied: numpy>=1.18.0 in /usr/local/lib/python3.7/dist-packages (from optax) (1.19.5)\n",
            "Requirement already satisfied: jaxlib>=0.1.37 in /usr/local/lib/python3.7/dist-packages (from optax) (0.1.71+cuda111)\n",
            "Requirement already satisfied: six in /usr/local/lib/python3.7/dist-packages (from absl-py>=0.7.1->optax) (1.15.0)\n",
            "Requirement already satisfied: dm-tree>=0.1.5 in /usr/local/lib/python3.7/dist-packages (from chex>=0.0.4->optax) (0.1.6)\n",
            "Requirement already satisfied: toolz>=0.9.0 in /usr/local/lib/python3.7/dist-packages (from chex>=0.0.4->optax) (0.11.1)\n",
            "Requirement already satisfied: scipy>=1.2.1 in /usr/local/lib/python3.7/dist-packages (from jax>=0.1.55->optax) (1.4.1)\n",
            "Requirement already satisfied: opt-einsum in /usr/local/lib/python3.7/dist-packages (from jax>=0.1.55->optax) (3.3.0)\n",
            "Requirement already satisfied: flatbuffers<3.0,>=1.12 in /usr/local/lib/python3.7/dist-packages (from jaxlib>=0.1.37->optax) (1.12)\n",
            "Installing collected packages: chex, optax\n",
            "Successfully installed chex-0.0.8 optax-0.0.9\n"
          ]
        }
      ]
    },
    {
      "cell_type": "code",
      "metadata": {
        "id": "yhavHsDtmYXV"
      },
      "source": [
        "import functools\n",
        "import math\n",
        "from typing import Tuple, TypeVar\n",
        "import warnings\n",
        "\n",
        "import haiku as hk\n",
        "import jax\n",
        "import jax.numpy as jnp\n",
        "import optax\n",
        "import numpy as np\n",
        "import pandas as pd\n",
        "import plotnine as gg\n",
        "\n",
        "T = TypeVar('T')\n",
        "Pair = Tuple[T, T]\n",
        "\n",
        "gg.theme_set(gg.theme_bw())\n",
        "warnings.filterwarnings('ignore')"
      ],
      "execution_count": 3,
      "outputs": []
    },
    {
      "cell_type": "code",
      "metadata": {
        "colab": {
          "base_uri": "https://localhost:8080/"
        },
        "id": "R73NeQrsWXrP",
        "outputId": "eadaa8b6-13eb-4d4d-db20-a4f0c6c6b513"
      },
      "source": [
        "x = jnp.ones([3, 2, 4])\n",
        "y = jnp.ones([3, 8]) * 5\n",
        "\n",
        "def my_net_fn(x):\n",
        "  mlp = hk.Sequential([\n",
        "      hk.Flatten(),\n",
        "      hk.Linear(8)\n",
        "  ])\n",
        "  return mlp(x)\n",
        "\n",
        "model = hk.transform(my_net_fn)\n",
        "\n",
        "rng = jax.random.PRNGKey(428)\n",
        "params = model.init(rng, x)\n",
        "\n",
        "model.apply(params, None, x)"
      ],
      "execution_count": 15,
      "outputs": [
        {
          "output_type": "execute_result",
          "data": {
            "text/plain": [
              "DeviceArray([[ 0.37775657, -0.34618992, -0.22275901,  1.3984423 ,\n",
              "               1.8037784 , -1.075372  , -1.9799409 , -0.06570727],\n",
              "             [ 0.37775657, -0.34618992, -0.22275901,  1.3984423 ,\n",
              "               1.8037784 , -1.075372  , -1.9799409 , -0.06570727],\n",
              "             [ 0.37775657, -0.34618992, -0.22275901,  1.3984423 ,\n",
              "               1.8037784 , -1.075372  , -1.9799409 , -0.06570727]],            dtype=float32)"
            ]
          },
          "metadata": {},
          "execution_count": 15
        }
      ]
    },
    {
      "cell_type": "code",
      "metadata": {
        "id": "W38FeAl7WtlG",
        "colab": {
          "base_uri": "https://localhost:8080/"
        },
        "outputId": "0469e5eb-7ad5-4cbe-c276-53e213845817"
      },
      "source": [
        "@jax.jit\n",
        "def loss(params, x, y):\n",
        "  print(f'params={params}, x={x.shape}, y={y.shape}')\n",
        "  pred = model.apply(params, None, x)\n",
        "  return jnp.mean(jnp.square(pred - y))\n",
        "\n",
        "@jax.jit\n",
        "def update(params, opt_state, x, y):\n",
        "  l, grads = jax.value_and_grad(loss)(params, x, y)\n",
        "  grads, opt_state = opt.update(grads, opt_state)\n",
        "  params = optax.apply_updates(params, grads)\n",
        "  return l, params, opt_state  \n",
        "\n",
        "opt = optax.adam(1e-3)\n",
        "opt_state = opt.init(params)\n",
        "\n",
        "loss(params, x, y)"
      ],
      "execution_count": 16,
      "outputs": [
        {
          "output_type": "stream",
          "name": "stdout",
          "text": [
            "params=FlatMap({\n",
            "  'linear': FlatMap({\n",
            "              'b': Traced<ShapedArray(float32[8])>with<DynamicJaxprTrace(level=0/1)>,\n",
            "              'w': Traced<ShapedArray(float32[8,8])>with<DynamicJaxprTrace(level=0/1)>,\n",
            "            }),\n",
            "}), x=(3, 2, 4), y=(3, 8)\n"
          ]
        },
        {
          "output_type": "execute_result",
          "data": {
            "text/plain": [
              "DeviceArray(26.462784, dtype=float32)"
            ]
          },
          "metadata": {},
          "execution_count": 16
        }
      ]
    },
    {
      "cell_type": "code",
      "metadata": {
        "colab": {
          "base_uri": "https://localhost:8080/"
        },
        "id": "tFIM9bFW0klB",
        "outputId": "b3e71848-e265-441f-8850-35744186bb3b"
      },
      "source": [
        "# training\n",
        "\n",
        "for step in range(2000):\n",
        "  train_loss, params, opt_state = update(params, opt_state, x, y)\n",
        "  if step % 100 == 0:\n",
        "    print(f'train_loss={train_loss}')"
      ],
      "execution_count": 19,
      "outputs": [
        {
          "output_type": "stream",
          "name": "stdout",
          "text": [
            "train_loss=17.805282592773438\n",
            "train_loss=12.06995964050293\n",
            "train_loss=7.966765880584717\n",
            "train_loss=5.119480133056641\n",
            "train_loss=3.2017714977264404\n",
            "train_loss=1.9475939273834229\n",
            "train_loss=1.1514157056808472\n",
            "train_loss=0.6611995697021484\n",
            "train_loss=0.36863744258880615\n",
            "train_loss=0.19943076372146606\n",
            "train_loss=0.10459356755018234\n",
            "train_loss=0.053097523748874664\n",
            "train_loss=0.026035308837890625\n",
            "train_loss=0.012297021225094795\n",
            "train_loss=0.005577513482421637\n",
            "train_loss=0.00242120074108243\n",
            "train_loss=0.0010025068186223507\n",
            "train_loss=0.0003945300995837897\n",
            "train_loss=0.00014704356726724654\n",
            "train_loss=5.1715825975406915e-05\n"
          ]
        }
      ]
    },
    {
      "cell_type": "code",
      "metadata": {
        "colab": {
          "base_uri": "https://localhost:8080/"
        },
        "id": "PL6RVc2p1iTO",
        "outputId": "b19991d9-0347-4eb0-936b-fea9f84d9c03"
      },
      "source": [
        "model.apply(params, None, x)"
      ],
      "execution_count": 20,
      "outputs": [
        {
          "output_type": "execute_result",
          "data": {
            "text/plain": [
              "DeviceArray([[4.999982 , 4.9997377, 4.9998274, 4.9999914, 4.9999933,\n",
              "              4.998029 , 4.9884763, 4.999901 ],\n",
              "             [4.999982 , 4.9997377, 4.9998274, 4.9999914, 4.9999933,\n",
              "              4.998029 , 4.9884763, 4.999901 ],\n",
              "             [4.999982 , 4.9997377, 4.9998274, 4.9999914, 4.9999933,\n",
              "              4.998029 , 4.9884763, 4.999901 ]], dtype=float32)"
            ]
          },
          "metadata": {},
          "execution_count": 20
        }
      ]
    },
    {
      "cell_type": "code",
      "metadata": {
        "id": "a-ET31he3POe"
      },
      "source": [
        ""
      ],
      "execution_count": null,
      "outputs": []
    }
  ]
}